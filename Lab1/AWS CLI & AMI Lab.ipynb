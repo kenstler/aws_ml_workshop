{
 "cells": [
  {
   "cell_type": "markdown",
   "metadata": {},
   "source": [
    "# Amazon EC2 and AMI with AWS CLI\n",
    "\n",
    "This notebook shows examples of AWS CLI commands that perform common tasks for Amazon EC2. We will create Amazon EC2 instances from the Deep Learning AMI, install additional software, then save the new image and launch a new instance with the new package installed.\n",
    "\n",
    "## Create and Display Amazon EC2 Key Pairs\n",
    "\n",
    "You can use the AWS Command Line Interface (AWS CLI) to create, display, and delete your key pairs for Amazon EC2. You use key pairs to connect to an Amazon EC2 instance.\n",
    "\n",
    "You must provide the key pair to Amazon EC2 when you create the instance, and then use that key pair to authenticate when you connect to the instance.\n",
    "\n",
    "Let's start by defining your key name:"
   ]
  },
  {
   "cell_type": "code",
   "execution_count": null,
   "metadata": {},
   "outputs": [],
   "source": [
    "key_name = <YOUR_KEY_HERE>"
   ]
  },
  {
   "cell_type": "code",
   "execution_count": null,
   "metadata": {},
   "outputs": [],
   "source": [
    "!echo {key_name}"
   ]
  },
  {
   "cell_type": "markdown",
   "metadata": {},
   "source": [
    "### Creating a Key Pair\n",
    "\n",
    "To create a key pair, use the `create-key-pair` command with the `--query` option, and the `--output text` option to pipe your private key directly into a file."
   ]
  },
  {
   "cell_type": "code",
   "execution_count": null,
   "metadata": {},
   "outputs": [],
   "source": [
    "!aws ec2 create-key-pair --key-name {key_name} --query 'KeyMaterial' --output text > {key_name}.pem"
   ]
  },
  {
   "cell_type": "markdown",
   "metadata": {},
   "source": [
    "Creates the key pair and stores the public key in AWS. Let's look at the local key:"
   ]
  },
  {
   "cell_type": "code",
   "execution_count": null,
   "metadata": {},
   "outputs": [],
   "source": [
    "!cat {key_name}.pem"
   ]
  },
  {
   "cell_type": "markdown",
   "metadata": {},
   "source": [
    "Your private key isn't stored in AWS and can be retrieved only when it's created. You can't recover it later. Instead, if you lose the private key, you must create a new key pair.\n",
    "\n",
    "If you're connecting to your instance from a Linux computer, we recommend that you use the following command to set the permissions of your private key file so that only you can read it."
   ]
  },
  {
   "cell_type": "code",
   "execution_count": null,
   "metadata": {},
   "outputs": [],
   "source": [
    "!chmod 400 {key_name}.pem"
   ]
  },
  {
   "cell_type": "markdown",
   "metadata": {},
   "source": [
    "### Displaying Your Key Pair\n",
    "\n",
    "A \"fingerprint\" is generated from your key pair, and you can use it to verify that the private key that you have on your local machine matches the public key that's stored in AWS.\n",
    "\n",
    "The fingerprint is an SHA1 hash taken from a DER-encoded copy of the private key. This value is captured when the key pair is created, and is stored in AWS with the public key. You can view the fingerprint in the Amazon EC2 console or by running the AWS CLI command aws ec2 `describe-key-pairs`."
   ]
  },
  {
   "cell_type": "code",
   "execution_count": null,
   "metadata": {},
   "outputs": [],
   "source": [
    "!aws ec2 describe-key-pairs --key-name {key_name}"
   ]
  },
  {
   "cell_type": "markdown",
   "metadata": {},
   "source": [
    "## Create and Configure Security Groups for Amazon EC2\n",
    "\n",
    "You can create a security group for your Amazon Elastic Compute Cloud (Amazon EC2) instances that essentially operates as a firewall, with rules that determine what network traffic can enter and leave. You can create security groups to use in a virtual private cloud (VPC), or in the EC2-Classic shared flat network.\n",
    "\n",
    "### Creating a Security Group\n",
    "You can create security groups associated with VPCs or for EC2-Classic.\n",
    "\n",
    "#### EC2-VPC\n",
    "The following example shows how to create a security group for a specified VPC.\n",
    "\n",
    "First let's find the id of your default VPC."
   ]
  },
  {
   "cell_type": "code",
   "execution_count": null,
   "metadata": {},
   "outputs": [],
   "source": [
    "!aws ec2 describe-vpcs --query \"Vpcs[].VpcId\""
   ]
  },
  {
   "cell_type": "markdown",
   "metadata": {},
   "source": [
    "Set <tt>vpc_id</tt> to the variable <tt>VpcId</tt> listed above:"
   ]
  },
  {
   "cell_type": "code",
   "execution_count": null,
   "metadata": {},
   "outputs": [],
   "source": [
    "vpc_id = <YOUR_VPC_ID_HERE>"
   ]
  },
  {
   "cell_type": "markdown",
   "metadata": {},
   "source": [
    "Define SG name:"
   ]
  },
  {
   "cell_type": "code",
   "execution_count": null,
   "metadata": {},
   "outputs": [],
   "source": [
    "sg_name = <YOUR_SECURITY_GROUP_NAME_HERE>"
   ]
  },
  {
   "cell_type": "code",
   "execution_count": null,
   "metadata": {},
   "outputs": [],
   "source": [
    "!aws ec2 create-security-group --group-name {sg_name} --description \"My security group\" --vpc-id {vpc_id}"
   ]
  },
  {
   "cell_type": "markdown",
   "metadata": {},
   "source": [
    "Define <tt>sg_id</tt> as returned above by <tt>GroupId</tt>."
   ]
  },
  {
   "cell_type": "code",
   "execution_count": null,
   "metadata": {},
   "outputs": [],
   "source": [
    "sg_id = <YOUR_SECURITY_GROUP_ID_HERE>"
   ]
  },
  {
   "cell_type": "markdown",
   "metadata": {},
   "source": [
    "To view the initial information for a security group, run the `describe-security-groups` command."
   ]
  },
  {
   "cell_type": "code",
   "execution_count": null,
   "metadata": {},
   "outputs": [],
   "source": [
    "!aws ec2 describe-security-groups --group-ids {sg_id}"
   ]
  },
  {
   "cell_type": "markdown",
   "metadata": {},
   "source": [
    "### Adding Rules to Your Security Group\n",
    "\n",
    "When you run an Amazon EC2 instance, you must enable rules in the security group to enable incoming network traffic for your means of connecting to the image.\n",
    "\n",
    "For example, if you're launching a Windows instance, you typically add a rule to allow inbound traffic on TCP port 3389 to support Remote Desktop Protocol (RDP). If you're launching a Linux instance, you typically add a rule to allow inbound traffic on TCP port 22 to support SSH connections.\n",
    "\n",
    "Use the `authorize-security-group-ingress` command to add a rule to your security group. A required parameter of this command is the public IP address of your computer, or the network (in the form of an address range) that your computer is attached to, in CIDR notation.\n",
    "\n",
    "**Note**\n",
    "\n",
    "We provide the following service, https://checkip.amazonaws.com/, to enable you to determine your public IP address. To find other services that can help you identify your IP address, use your browser to search for \"what is my IP address\". If you connect through an ISP or from behind your firewall using a dynamic IP address (through a NAT gateway from a private network), your address can change periodically. In that case, you must find out the range of IP addresses used by client computers.\n",
    "\n",
    "The following example shows how to add a rule for ssh (TCP port 22) to an EC2-VPC security group.\n",
    "\n",
    "You can start by confirming your public address:"
   ]
  },
  {
   "cell_type": "code",
   "execution_count": null,
   "metadata": {},
   "outputs": [],
   "source": [
    "!curl https://checkip.amazonaws.com"
   ]
  },
  {
   "cell_type": "markdown",
   "metadata": {},
   "source": [
    "Save that as a variable `my_ip`:"
   ]
  },
  {
   "cell_type": "code",
   "execution_count": null,
   "metadata": {},
   "outputs": [],
   "source": [
    "my_ip = <MY_IP>"
   ]
  },
  {
   "cell_type": "markdown",
   "metadata": {},
   "source": [
    "With that information confirmed, you can add the range to your security group by running the `authorize-security-group-ingress` command."
   ]
  },
  {
   "cell_type": "code",
   "execution_count": null,
   "metadata": {},
   "outputs": [],
   "source": [
    "!aws ec2 authorize-security-group-ingress --group-id {sg_id} --protocol tcp --port 22 --cidr {my_ip}/32"
   ]
  },
  {
   "cell_type": "markdown",
   "metadata": {},
   "source": [
    "To view the changes to the security group, run the `describe-security-groups` command."
   ]
  },
  {
   "cell_type": "code",
   "execution_count": null,
   "metadata": {},
   "outputs": [],
   "source": [
    "!aws ec2 describe-security-groups --group-ids {sg_id}"
   ]
  },
  {
   "cell_type": "markdown",
   "metadata": {},
   "source": [
    "## Launch, List, and Terminate EC2 Instances\n",
    "\n",
    "You can use the AWS Command Line Interface (AWS CLI) to launch, list, and terminate Amazon Elastic Compute Cloud (Amazon EC2) instances. You need a key pair and a security group. You also need to select an Amazon Machine Image (AMI) and make a note of the AMI ID.\n",
    "\n",
    "### Launching an Instance\n",
    "To launch an Amazon EC2 instance using the AMI you selected, use the `run-instances` command. You can launch the instance into a virtual private cloud (VPC), or if your account supports it, or into EC2-Classic.\n",
    "\n",
    "Initially, your instance appears in the `pending` state, but changes to the `running` state after a few minutes.\n",
    "\n",
    "We're going to use the Deep Learning AMI:"
   ]
  },
  {
   "cell_type": "code",
   "execution_count": null,
   "metadata": {},
   "outputs": [],
   "source": [
    "ami_id = \"ami-060865e8b5914b4c4\""
   ]
  },
  {
   "cell_type": "markdown",
   "metadata": {},
   "source": [
    "We're going to launch the instance into our default vpc, and we need to pick a subnet."
   ]
  },
  {
   "cell_type": "code",
   "execution_count": null,
   "metadata": {},
   "outputs": [],
   "source": [
    "!aws ec2 describe-subnets"
   ]
  },
  {
   "cell_type": "markdown",
   "metadata": {},
   "source": [
    "Choose one of the SubnetId's above and define below:"
   ]
  },
  {
   "cell_type": "code",
   "execution_count": null,
   "metadata": {},
   "outputs": [],
   "source": [
    "subnet_id = <SUBNET_ID_HERE>"
   ]
  },
  {
   "cell_type": "markdown",
   "metadata": {},
   "source": [
    "The following example shows how to launch a t2.medium instance in the specified subnet of a VPC."
   ]
  },
  {
   "cell_type": "code",
   "execution_count": null,
   "metadata": {},
   "outputs": [],
   "source": [
    "!aws ec2 run-instances --image-id {ami_id} --count 10 --instance-type t2.medium --key-name {key_name} --security-group-ids {sg_id} --subnet-id {subnet_id}"
   ]
  },
  {
   "cell_type": "markdown",
   "metadata": {},
   "source": [
    "Note your instance id above:"
   ]
  },
  {
   "cell_type": "code",
   "execution_count": null,
   "metadata": {},
   "outputs": [],
   "source": [
    "instance_id = <INSTANCE_ID_HERE>"
   ]
  },
  {
   "cell_type": "markdown",
   "metadata": {},
   "source": [
    "### Listing Your Instances\n",
    "\n",
    "You can use the AWS CLI to list your instances and view information about them. You can list all your instances, or filter the results based on the instances that you're interested in.\n",
    "\n",
    "The following examples show how to use the describe-instances command.\n",
    "\n",
    "The following command describes your instance and outputs the state of that instance."
   ]
  },
  {
   "cell_type": "code",
   "execution_count": null,
   "metadata": {},
   "outputs": [],
   "source": [
    "!aws ec2 describe-instances --instance-id {instance_id} --query \"Reservations[].Instances[].State\""
   ]
  },
  {
   "cell_type": "markdown",
   "metadata": {},
   "source": [
    "Keep checking your instance state. Once it is **running**, we're going to want to SSH into it. To do this, we need to check the public DNS name:"
   ]
  },
  {
   "cell_type": "code",
   "execution_count": null,
   "metadata": {},
   "outputs": [],
   "source": [
    "!aws ec2 describe-instances --instance-id {instance_id} --query \"Reservations[].Instances[].PublicDnsName\""
   ]
  },
  {
   "cell_type": "markdown",
   "metadata": {},
   "source": [
    "Copy this name, and **STOP** executing cells and adhere to the following instructions:\n",
    "\n",
    "1. Go back to the Jupyter Console\n",
    "2. At the top right, click <tt>New</tt> and then click <tt>Terminal</tt>.\n",
    "3. Enter `cd SageMaker/aws_ml_workshop/Lab1/`\n",
    "4. SSH into your new instance via: `ssh -i <YOUR_KEY_HERE>.pem ubuntu@<YOUR_PUBLIC_DNS_HERE>`\n",
    "5. Activate Pytorch env with `source activate pytorch_p36`\n",
    "6. Download test RL script with `wget https://raw.githubusercontent.com/pytorch/examples/master/reinforcement_learning/reinforce.py`\n",
    "7. Try running `python reinforce.py`\n",
    "8. Install OpenAI Gym with `pip install gym`\n",
    "9. Run `python reinforce.py` and validate the installation.\n",
    "\n",
    "## Creating Amazon Machine Image (AMI)\n",
    "\n",
    "Now that you've installed OpenAI gym into the Python 3.6 PyTorch Conda Environment, let's create an AMI so we can launch new instances with OpenAI gym installed in the Python 3.6 PyTorch Conda Environement by default.\n",
    "\n",
    "First, define your AMI name:"
   ]
  },
  {
   "cell_type": "code",
   "execution_count": null,
   "metadata": {},
   "outputs": [],
   "source": [
    "ami_name = <YOUR_GYM_AMI_NAME>"
   ]
  },
  {
   "cell_type": "code",
   "execution_count": null,
   "metadata": {},
   "outputs": [],
   "source": [
    "!aws ec2 create-image --instance-id {instance_id} --name {ami_name}"
   ]
  },
  {
   "cell_type": "markdown",
   "metadata": {},
   "source": [
    "Define `gym_ami_id` as the value returned above:"
   ]
  },
  {
   "cell_type": "code",
   "execution_count": null,
   "metadata": {},
   "outputs": [],
   "source": [
    "gym_ami_id = <YOUR_GYM_AMI_ID>"
   ]
  },
  {
   "cell_type": "markdown",
   "metadata": {},
   "source": [
    "Let's check the state of our AMI:"
   ]
  },
  {
   "cell_type": "code",
   "execution_count": null,
   "metadata": {},
   "outputs": [],
   "source": [
    "!aws ec2 describe-images --image-ids {gym_ami_id} --query \"Images[].State\""
   ]
  },
  {
   "cell_type": "markdown",
   "metadata": {},
   "source": [
    "Once it's available, we can now launch a new EC2 instance from this AMI, with the same configurations as before:"
   ]
  },
  {
   "cell_type": "code",
   "execution_count": null,
   "metadata": {},
   "outputs": [],
   "source": [
    "!aws ec2 run-instances --image-id {gym_ami_id} --count 1 --instance-type t2.medium --key-name {key_name} --security-group-ids {sg_id} --subnet-id {subnet_id}"
   ]
  },
  {
   "cell_type": "markdown",
   "metadata": {},
   "source": [
    "Note the new instance id above:"
   ]
  },
  {
   "cell_type": "code",
   "execution_count": null,
   "metadata": {},
   "outputs": [],
   "source": [
    "gym_instance_id = <YOUR_NEW_GYM_INSTANCE_ID>"
   ]
  },
  {
   "cell_type": "markdown",
   "metadata": {},
   "source": [
    "Let's see the state of this instance:"
   ]
  },
  {
   "cell_type": "code",
   "execution_count": null,
   "metadata": {},
   "outputs": [],
   "source": [
    "!aws ec2 describe-instances --instance-id {gym_instance_id} --query \"Reservations[].Instances[].State\""
   ]
  },
  {
   "cell_type": "markdown",
   "metadata": {},
   "source": [
    "Once this instance is running, let's grab the public DNS and ssh into like before to check that gym is already installed:"
   ]
  },
  {
   "cell_type": "code",
   "execution_count": null,
   "metadata": {},
   "outputs": [],
   "source": [
    "!aws ec2 describe-instances --instance-id {gym_instance_id} --query \"Reservations[].Instances[].PublicDnsName\""
   ]
  },
  {
   "cell_type": "markdown",
   "metadata": {},
   "source": [
    "Copy this name, and **STOP** executing cells and adhere to the following instructions:\n",
    "\n",
    "1. Go back to the Jupyter Console\n",
    "2. At the top right, click <tt>New</tt> and then click <tt>Terminal</tt>.\n",
    "3. Enter `cd SageMaker/aws_ml_workshop/Lab1/`\n",
    "4. SSH into your new instance via: `ssh -i <YOUR_KEY_HERE>.pem ubuntu@<YOUR_NEW_PUBLIC_DNS_HERE>`\n",
    "5. Activate Pytorch env with `source activate pytorch_p36`\n",
    "6. Try running `python reinforce.py`\n",
    "\n",
    "Verify that the installations you've made have persisted.\n",
    "\n",
    "### Terminate Instances\n",
    "\n",
    "Finally, let's terminate our demo instances."
   ]
  },
  {
   "cell_type": "code",
   "execution_count": null,
   "metadata": {},
   "outputs": [],
   "source": [
    "!aws ec2 terminate-instances --instance-ids {instance_id} {gym_instance_id}"
   ]
  }
 ],
 "metadata": {
  "kernelspec": {
   "display_name": "conda_python3",
   "language": "python",
   "name": "conda_python3"
  },
  "language_info": {
   "codemirror_mode": {
    "name": "ipython",
    "version": 3
   },
   "file_extension": ".py",
   "mimetype": "text/x-python",
   "name": "python",
   "nbconvert_exporter": "python",
   "pygments_lexer": "ipython3",
   "version": "3.6.5"
  }
 },
 "nbformat": 4,
 "nbformat_minor": 2
}
